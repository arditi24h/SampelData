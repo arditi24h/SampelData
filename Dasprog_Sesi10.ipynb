{
 "cells": [
  {
   "cell_type": "code",
   "execution_count": 3,
   "id": "bc79708b-3cdf-4145-af06-8e9169bec565",
   "metadata": {},
   "outputs": [
    {
     "name": "stdout",
     "output_type": "stream",
     "text": [
      "     usia gender tingkat_pendidikan status_perkawinan\n",
      "0      28      L       Pengangguran            Lajang\n",
      "1      26      P           Magister             Cerai\n",
      "2      24      P            Sarjana             Cerai\n",
      "3      36      L           Magister             Cerai\n",
      "4      45      P           Magister            Lajang\n",
      "..    ...    ...                ...               ...\n",
      "995    53      L            Diploma             Cerai\n",
      "996    40      L           Magister            Lajang\n",
      "997    48      P            Sarjana             Cerai\n",
      "998    41      P            Diploma           Menikah\n",
      "999    49      P       Pengangguran            Lajang\n",
      "\n",
      "[1000 rows x 4 columns]\n",
      "<class 'pandas.core.frame.DataFrame'>\n",
      "RangeIndex: 1000 entries, 0 to 999\n",
      "Data columns (total 4 columns):\n",
      " #   Column              Non-Null Count  Dtype \n",
      "---  ------              --------------  ----- \n",
      " 0   usia                1000 non-null   int32 \n",
      " 1   gender              1000 non-null   object\n",
      " 2   tingkat_pendidikan  1000 non-null   object\n",
      " 3   status_perkawinan   1000 non-null   object\n",
      "dtypes: int32(1), object(3)\n",
      "memory usage: 27.5+ KB\n",
      "None\n",
      "   usia gender tingkat_pendidikan status_perkawinan\n",
      "0    28      L       Pengangguran            Lajang\n",
      "1    26      P           Magister             Cerai\n",
      "2    24      P            Sarjana             Cerai\n",
      "3    36      L           Magister             Cerai\n",
      "4    45      P           Magister            Lajang\n",
      "Usia termuda:21\n",
      "Usia tertua:54\n",
      "Jumlah Laki laki:519.0\n",
      "Jumlah Laki laki:519\n"
     ]
    }
   ],
   "source": [
    "import numpy as np\n",
    "import pandas as pd\n",
    "jmlData = 1000\n",
    "\n",
    "usia = np.random.randint(21,55,size=jmlData)\n",
    "gender = np.random.choice(['L','P'],size=jmlData)\n",
    "tingkat_pendidikan = np.random.choice(['Pengangguran', 'Diploma', 'Sarjana', 'Magister'], size=jmlData)\n",
    "status_perkawinan = np.random.choice(['Lajang', 'Menikah', 'Cerai'], size=jmlData)\n",
    "\n",
    "df = pd.DataFrame({\n",
    "    'usia' : usia,\n",
    "    'gender' : gender,\n",
    "    'tingkat_pendidikan' : tingkat_pendidikan,\n",
    "    'status_perkawinan' : status_perkawinan\n",
    "})\n",
    "\n",
    "print(df)\n",
    "print(df.info()) #Menampilkan karakteristik data\n",
    "print(df.head()) #menampilkan isi tabek 5 baris pertama\n",
    "print(f\"Usia termuda:{df['usia'].min()}\")\n",
    "print(f\"Usia tertua:{df['usia'].max()}\")\n",
    "jmlL = df[df['gender']=='L']\n",
    "print(f\"Jumlah Laki laki:{jmlL.size/4}\")\n",
    "print(f\"Jumlah Laki laki:{jmlL['gender'].size}\")\n",
    "df.to_csv(\"dataCustomer.csv\")"
   ]
  },
  {
   "cell_type": "code",
   "execution_count": null,
   "id": "1f725d23-ccc1-40e0-9930-a755077f55a3",
   "metadata": {},
   "outputs": [],
   "source": []
  }
 ],
 "metadata": {
  "kernelspec": {
   "display_name": "Python 3 (ipykernel)",
   "language": "python",
   "name": "python3"
  },
  "language_info": {
   "codemirror_mode": {
    "name": "ipython",
    "version": 3
   },
   "file_extension": ".py",
   "mimetype": "text/x-python",
   "name": "python",
   "nbconvert_exporter": "python",
   "pygments_lexer": "ipython3",
   "version": "3.12.7"
  }
 },
 "nbformat": 4,
 "nbformat_minor": 5
}
